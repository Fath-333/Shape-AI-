{
  "nbformat": 4,
  "nbformat_minor": 0,
  "metadata": {
    "colab": {
      "name": "weather.ipynb",
      "provenance": [],
      "collapsed_sections": [],
      "authorship_tag": "ABX9TyOJpfbCVKvlj1F7qng0lcI2",
      "include_colab_link": true
    },
    "kernelspec": {
      "name": "python3",
      "display_name": "Python 3"
    },
    "language_info": {
      "name": "python"
    }
  },
  "cells": [
    {
      "cell_type": "markdown",
      "metadata": {
        "id": "view-in-github",
        "colab_type": "text"
      },
      "source": [
        "<a href=\"https://colab.research.google.com/github/Fath-333/Shape-AI-/blob/main/weather.ipynb\" target=\"_parent\"><img src=\"https://colab.research.google.com/assets/colab-badge.svg\" alt=\"Open In Colab\"/></a>"
      ]
    },
    {
      "cell_type": "code",
      "metadata": {
        "id": "N4GREthTelcP"
      },
      "source": [
        "#fetching the weather information with a third party API using python\n",
        "import requests\n",
        "#import as\n",
        "from datetime import datetime\n",
        "\n",
        "api_key='87d845b0b6cf29baala73cc34b067a95'\n",
        "location=input(\"Enter the city name: \")\n",
        "\n",
        "complete_api_link=\"https://api.openweathermap.org/data/2.5/weather?q=\"+location+\"&apid=\"+api_key\n",
        "api_link = requests.get(complete_api_link)\n",
        "api_data = api_link.json()\n",
        "\n",
        "#create variables to store and display data\n",
        "temp_city = ((api_data['main']['temp']) - 273.15)\n",
        "weather_desc = api_data['weather']['0']['description']\n",
        "hmdt = api_data['main']['humidity']\n",
        "wind_spd = api_data =['wind']['speed']\n",
        "date_time = datetime.now().strftime(\"%d %b %Y | %I:%M:%S %P\")\n",
        "\n",
        "print(\"----------------------------------------------------------------\")\n",
        "print(\"weather stats for -{} || {}\",format(location.upper(), date_time))\n",
        "print(\"-----------------------------------------------------------------\")\n",
        "\n",
        "print(\"current temperature is: {:.2f} deg (\".format(temp_city))\n",
        "print(\"current weather desc :\",weather_desc)\n",
        "print(\"current Humidity     :\",hmdt, '%')\n",
        "print(\"current wind speed   :\",wind_spd,'kmph')\n",
        "    \n",
        "  "
      ],
      "execution_count": null,
      "outputs": []
    }
  ]
}